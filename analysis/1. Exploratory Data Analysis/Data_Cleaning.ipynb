{
 "cells": [
  {
   "cell_type": "markdown",
   "id": "639f773e",
   "metadata": {},
   "source": []
  },
  {
   "cell_type": "code",
   "execution_count": 4,
   "id": "db6f7d06",
   "metadata": {},
   "outputs": [],
   "source": [
    "# from the previous data set findings we decided to remove independent study, Colloquium and Laboratory\n",
    "\n",
    "import os\n",
    "os.chdir(os.path.dirname(os.getcwd()))\n",
    "\n"
   ]
  },
  {
   "cell_type": "code",
   "execution_count": 5,
   "id": "3297eeba",
   "metadata": {},
   "outputs": [
    {
     "name": "stdout",
     "output_type": "stream",
     "text": [
      "['Lecture']\n"
     ]
    }
   ],
   "source": [
    "import pandas as pd\n",
    "\n",
    "# 1. Load your dataset\n",
    "df = pd.read_excel('data/df_grad_combined.xlsx')\n",
    "\n",
    "# 2. Define the values to remove (case‐sensitive match)\n",
    "to_remove = ['Independent Study', 'Colloquium', 'Laboratory']\n",
    "\n",
    "# 3. Filter them out\n",
    "df_filtered = df[~df['Component'].str.strip().isin(to_remove)].reset_index(drop=True)\n",
    "\n",
    "# (Optional) 4. If you’d rather do a case‐insensitive removal:\n",
    "# to_remove_lower = [x.lower() for x in to_remove]\n",
    "# df_filtered = df[df['Component'].str.lower().str.strip().isin(to_remove_lower) == False]\n",
    "\n",
    "# 5. Preview the result\n",
    "print(df_filtered['Component'].unique())\n",
    "\n",
    "# 6. (Optional) Save back to Excel/CSV\n",
    "# df_filtered.to_excel('/mnt/data/df_grad_filtered.xlsx', index=False)\n",
    "# df_filtered.to_csv('/mnt/data/df_grad_filtered.csv', index=False)"
   ]
  }
 ],
 "metadata": {
  "kernelspec": {
   "display_name": ".venv",
   "language": "python",
   "name": "python3"
  },
  "language_info": {
   "codemirror_mode": {
    "name": "ipython",
    "version": 3
   },
   "file_extension": ".py",
   "mimetype": "text/x-python",
   "name": "python",
   "nbconvert_exporter": "python",
   "pygments_lexer": "ipython3",
   "version": "3.11.9"
  }
 },
 "nbformat": 4,
 "nbformat_minor": 5
}
